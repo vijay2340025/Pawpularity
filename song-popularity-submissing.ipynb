{
 "cells": [
  {
   "cell_type": "code",
   "execution_count": 1,
   "id": "92da8dff",
   "metadata": {
    "execution": {
     "iopub.execute_input": "2022-01-22T18:48:52.522386Z",
     "iopub.status.busy": "2022-01-22T18:48:52.521175Z",
     "iopub.status.idle": "2022-01-22T18:48:53.769227Z",
     "shell.execute_reply": "2022-01-22T18:48:53.768490Z",
     "shell.execute_reply.started": "2022-01-22T18:44:34.171884Z"
    },
    "papermill": {
     "duration": 1.263392,
     "end_time": "2022-01-22T18:48:53.769389",
     "exception": false,
     "start_time": "2022-01-22T18:48:52.505997",
     "status": "completed"
    },
    "tags": []
   },
   "outputs": [],
   "source": [
    "import pandas as pd\n",
    "import numpy as np\n",
    "from sklearn.pipeline import Pipeline\n",
    "from sklearn.preprocessing import StandardScaler\n",
    "from sklearn.model_selection import StratifiedKFold, GridSearchCV\n",
    "from sklearn.impute import SimpleImputer\n",
    "from sklearn.ensemble import RandomForestClassifier"
   ]
  },
  {
   "cell_type": "code",
   "execution_count": 2,
   "id": "c78cefbd",
   "metadata": {
    "execution": {
     "iopub.execute_input": "2022-01-22T18:48:53.797067Z",
     "iopub.status.busy": "2022-01-22T18:48:53.796386Z",
     "iopub.status.idle": "2022-01-22T18:48:54.050826Z",
     "shell.execute_reply": "2022-01-22T18:48:54.050115Z",
     "shell.execute_reply.started": "2022-01-22T18:44:46.988541Z"
    },
    "papermill": {
     "duration": 0.270128,
     "end_time": "2022-01-22T18:48:54.050973",
     "exception": false,
     "start_time": "2022-01-22T18:48:53.780845",
     "status": "completed"
    },
    "tags": []
   },
   "outputs": [],
   "source": [
    "train_df = pd.read_csv(\"../input/song-popularity-prediction/train.csv\")"
   ]
  },
  {
   "cell_type": "code",
   "execution_count": 3,
   "id": "41f8609f",
   "metadata": {
    "execution": {
     "iopub.execute_input": "2022-01-22T18:48:54.076387Z",
     "iopub.status.busy": "2022-01-22T18:48:54.075744Z",
     "iopub.status.idle": "2022-01-22T18:48:54.079484Z",
     "shell.execute_reply": "2022-01-22T18:48:54.080061Z",
     "shell.execute_reply.started": "2022-01-22T18:44:48.384697Z"
    },
    "papermill": {
     "duration": 0.018132,
     "end_time": "2022-01-22T18:48:54.080229",
     "exception": false,
     "start_time": "2022-01-22T18:48:54.062097",
     "status": "completed"
    },
    "tags": []
   },
   "outputs": [],
   "source": [
    "features = [\n",
    "    'song_duration_ms',\n",
    "    'acousticness',\n",
    "    'danceability',\n",
    "    'energy',\n",
    "    'liveness',\n",
    "    'loudness',\n",
    "    'speechiness',\n",
    "    'tempo',\n",
    "    'audio_valence'\n",
    "]"
   ]
  },
  {
   "cell_type": "code",
   "execution_count": 4,
   "id": "e2af96e0",
   "metadata": {
    "execution": {
     "iopub.execute_input": "2022-01-22T18:48:54.107046Z",
     "iopub.status.busy": "2022-01-22T18:48:54.104819Z",
     "iopub.status.idle": "2022-01-22T18:48:54.109119Z",
     "shell.execute_reply": "2022-01-22T18:48:54.109680Z",
     "shell.execute_reply.started": "2022-01-22T18:46:45.306673Z"
    },
    "papermill": {
     "duration": 0.018606,
     "end_time": "2022-01-22T18:48:54.109845",
     "exception": false,
     "start_time": "2022-01-22T18:48:54.091239",
     "status": "completed"
    },
    "tags": []
   },
   "outputs": [],
   "source": [
    "features = train_df.columns.tolist()\n",
    "features.remove('song_popularity')"
   ]
  },
  {
   "cell_type": "code",
   "execution_count": 5,
   "id": "6d93a77f",
   "metadata": {
    "execution": {
     "iopub.execute_input": "2022-01-22T18:48:54.135332Z",
     "iopub.status.busy": "2022-01-22T18:48:54.134340Z",
     "iopub.status.idle": "2022-01-22T18:48:54.139678Z",
     "shell.execute_reply": "2022-01-22T18:48:54.140224Z",
     "shell.execute_reply.started": "2022-01-22T18:46:47.253365Z"
    },
    "papermill": {
     "duration": 0.019684,
     "end_time": "2022-01-22T18:48:54.140392",
     "exception": false,
     "start_time": "2022-01-22T18:48:54.120708",
     "status": "completed"
    },
    "tags": []
   },
   "outputs": [],
   "source": [
    "pipeline = Pipeline([\n",
    "    ('impute', SimpleImputer()),\n",
    "    ('scale', StandardScaler()),\n",
    "    ('classifier', RandomForestClassifier(class_weight={0:1,1:2}, min_samples_leaf=2, n_estimators=400)),\n",
    "])"
   ]
  },
  {
   "cell_type": "code",
   "execution_count": 6,
   "id": "9316be05",
   "metadata": {
    "execution": {
     "iopub.execute_input": "2022-01-22T18:48:54.166046Z",
     "iopub.status.busy": "2022-01-22T18:48:54.165091Z",
     "iopub.status.idle": "2022-01-22T18:48:54.180753Z",
     "shell.execute_reply": "2022-01-22T18:48:54.180192Z",
     "shell.execute_reply.started": "2022-01-22T18:46:48.766012Z"
    },
    "papermill": {
     "duration": 0.029625,
     "end_time": "2022-01-22T18:48:54.180900",
     "exception": false,
     "start_time": "2022-01-22T18:48:54.151275",
     "status": "completed"
    },
    "tags": []
   },
   "outputs": [],
   "source": [
    "X = train_df[features]\n",
    "y = train_df['song_popularity']"
   ]
  },
  {
   "cell_type": "code",
   "execution_count": 7,
   "id": "872dab62",
   "metadata": {
    "execution": {
     "iopub.execute_input": "2022-01-22T18:48:54.206145Z",
     "iopub.status.busy": "2022-01-22T18:48:54.205168Z",
     "iopub.status.idle": "2022-01-22T18:48:54.208926Z",
     "shell.execute_reply": "2022-01-22T18:48:54.209467Z",
     "shell.execute_reply.started": "2022-01-22T18:46:50.669281Z"
    },
    "papermill": {
     "duration": 0.017947,
     "end_time": "2022-01-22T18:48:54.209645",
     "exception": false,
     "start_time": "2022-01-22T18:48:54.191698",
     "status": "completed"
    },
    "tags": []
   },
   "outputs": [],
   "source": [
    "kfold = StratifiedKFold(n_splits=5)"
   ]
  },
  {
   "cell_type": "code",
   "execution_count": 8,
   "id": "9d3a7b66",
   "metadata": {
    "execution": {
     "iopub.execute_input": "2022-01-22T18:48:54.234593Z",
     "iopub.status.busy": "2022-01-22T18:48:54.233631Z",
     "iopub.status.idle": "2022-01-22T18:48:54.238138Z",
     "shell.execute_reply": "2022-01-22T18:48:54.238726Z",
     "shell.execute_reply.started": "2022-01-22T18:46:51.459737Z"
    },
    "papermill": {
     "duration": 0.018625,
     "end_time": "2022-01-22T18:48:54.238898",
     "exception": false,
     "start_time": "2022-01-22T18:48:54.220273",
     "status": "completed"
    },
    "tags": []
   },
   "outputs": [],
   "source": [
    "param_grid = {\n",
    "    'classifier__n_estimators' : [100, 150, 200, 250, 300, 350, 400],\n",
    "    'classifier__min_samples_leaf' : [2, 3, 4]\n",
    "}"
   ]
  },
  {
   "cell_type": "code",
   "execution_count": 9,
   "id": "40164df6",
   "metadata": {
    "execution": {
     "iopub.execute_input": "2022-01-22T18:48:54.269001Z",
     "iopub.status.busy": "2022-01-22T18:48:54.267718Z",
     "iopub.status.idle": "2022-01-22T18:49:55.192511Z",
     "shell.execute_reply": "2022-01-22T18:49:55.193035Z",
     "shell.execute_reply.started": "2022-01-22T18:46:52.362836Z"
    },
    "papermill": {
     "duration": 60.94349,
     "end_time": "2022-01-22T18:49:55.193212",
     "exception": false,
     "start_time": "2022-01-22T18:48:54.249722",
     "status": "completed"
    },
    "tags": []
   },
   "outputs": [
    {
     "data": {
      "text/plain": [
       "Pipeline(steps=[('impute', SimpleImputer()), ('scale', StandardScaler()),\n",
       "                ('classifier',\n",
       "                 RandomForestClassifier(class_weight={0: 1, 1: 2},\n",
       "                                        min_samples_leaf=2,\n",
       "                                        n_estimators=400))])"
      ]
     },
     "execution_count": 9,
     "metadata": {},
     "output_type": "execute_result"
    }
   ],
   "source": [
    "pipeline.fit(X, y)"
   ]
  },
  {
   "cell_type": "code",
   "execution_count": 10,
   "id": "10d90b78",
   "metadata": {
    "execution": {
     "iopub.execute_input": "2022-01-22T18:49:55.218805Z",
     "iopub.status.busy": "2022-01-22T18:49:55.218188Z",
     "iopub.status.idle": "2022-01-22T18:49:55.279925Z",
     "shell.execute_reply": "2022-01-22T18:49:55.280474Z",
     "shell.execute_reply.started": "2022-01-22T18:47:54.808432Z"
    },
    "papermill": {
     "duration": 0.076527,
     "end_time": "2022-01-22T18:49:55.280686",
     "exception": false,
     "start_time": "2022-01-22T18:49:55.204159",
     "status": "completed"
    },
    "tags": []
   },
   "outputs": [],
   "source": [
    "test_df = pd.read_csv('../input/song-popularity-prediction/test.csv')"
   ]
  },
  {
   "cell_type": "code",
   "execution_count": 11,
   "id": "9a4dede0",
   "metadata": {
    "execution": {
     "iopub.execute_input": "2022-01-22T18:49:55.307229Z",
     "iopub.status.busy": "2022-01-22T18:49:55.306248Z",
     "iopub.status.idle": "2022-01-22T18:49:56.395830Z",
     "shell.execute_reply": "2022-01-22T18:49:56.396344Z",
     "shell.execute_reply.started": "2022-01-22T18:47:55.782382Z"
    },
    "papermill": {
     "duration": 1.104407,
     "end_time": "2022-01-22T18:49:56.396508",
     "exception": false,
     "start_time": "2022-01-22T18:49:55.292101",
     "status": "completed"
    },
    "tags": []
   },
   "outputs": [],
   "source": [
    "X_sub = test_df[features]\n",
    "test_df['song_popularity'] = pipeline.predict(X_sub)"
   ]
  },
  {
   "cell_type": "code",
   "execution_count": 12,
   "id": "d5432494",
   "metadata": {
    "execution": {
     "iopub.execute_input": "2022-01-22T18:49:56.424383Z",
     "iopub.status.busy": "2022-01-22T18:49:56.421673Z",
     "iopub.status.idle": "2022-01-22T18:49:56.449690Z",
     "shell.execute_reply": "2022-01-22T18:49:56.449120Z",
     "shell.execute_reply.started": "2022-01-22T18:47:59.079095Z"
    },
    "papermill": {
     "duration": 0.042218,
     "end_time": "2022-01-22T18:49:56.449858",
     "exception": false,
     "start_time": "2022-01-22T18:49:56.407640",
     "status": "completed"
    },
    "tags": []
   },
   "outputs": [],
   "source": [
    "test_df[['id', 'song_popularity']].to_csv('submission.csv', index=False)"
   ]
  }
 ],
 "metadata": {
  "kernelspec": {
   "display_name": "Python 3",
   "language": "python",
   "name": "python3"
  },
  "language_info": {
   "codemirror_mode": {
    "name": "ipython",
    "version": 3
   },
   "file_extension": ".py",
   "mimetype": "text/x-python",
   "name": "python",
   "nbconvert_exporter": "python",
   "pygments_lexer": "ipython3",
   "version": "3.7.12"
  },
  "papermill": {
   "default_parameters": {},
   "duration": 74.938903,
   "end_time": "2022-01-22T18:49:57.171878",
   "environment_variables": {},
   "exception": null,
   "input_path": "__notebook__.ipynb",
   "output_path": "__notebook__.ipynb",
   "parameters": {},
   "start_time": "2022-01-22T18:48:42.232975",
   "version": "2.3.3"
  }
 },
 "nbformat": 4,
 "nbformat_minor": 5
}
